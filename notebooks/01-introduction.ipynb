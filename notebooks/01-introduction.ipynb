{
 "cells": [
  {
   "cell_type": "markdown",
   "id": "60577492-9ee5-452d-be2e-84820b10fce6",
   "metadata": {},
   "source": [
    "# Introduction to Machine Learning for Time Series"
   ]
  },
  {
   "cell_type": "markdown",
   "id": "4185e582-8af6-4f44-b156-ee9cc0c688a7",
   "metadata": {},
   "source": [
    "## Contents"
   ]
  },
  {
   "cell_type": "markdown",
   "id": "6467e708-ca99-4099-93e3-8bbe8da34385",
   "metadata": {},
   "source": [
    "- What is a time series?\n",
    "- Why is times series different?\n",
    "- Machine learning tasks on time series\n",
    "- Reduction"
   ]
  },
  {
   "cell_type": "markdown",
   "id": "72e2066a-7ba8-4390-b82c-c7d54a24df0b",
   "metadata": {},
   "source": [
    "## What is a time series?"
   ]
  },
  {
   "cell_type": "markdown",
   "id": "66138483-cd72-46a2-80ae-d33471ab5962",
   "metadata": {
    "jp-MarkdownHeadingCollapsed": true
   },
   "source": [
    "### Conceptual definition"
   ]
  },
  {
   "cell_type": "markdown",
   "id": "ed20fb91-2dea-42eb-a4bd-ea5532765c3c",
   "metadata": {},
   "source": [
    "Imagine you're tracking something over time, like the temperature outside your window every hour, or the number of visitors to a website each day. A **time series** is simply a sequence of measurements taken at regular intervals. The key thing is that the order of the measurements matters, because the value at one point in time is often related to the values that came before it. It's like a story unfolding over time, and we want to understand that story and maybe even predict what happens next."
   ]
  },
  {
   "cell_type": "markdown",
   "id": "960ab94e-6854-4cd3-a5cc-76d574099684",
   "metadata": {},
   "source": [
    "### Mathematical definition"
   ]
  },
  {
   "cell_type": "markdown",
   "id": "748e23da-3310-450a-8d1b-217e2d676fe5",
   "metadata": {},
   "source": [
    "A **time series** can be defined as a sequence of data points, typically real-valued, indexed by time. Let $T$ be the index set representing the time points at which the measurements are taken. For a discrete time series, $T$ is a discrete subset of the real numbers (often the integers or a subset of them, e.g., $T = \\{1, 2, 3, \\dots\\}$ or $T = \\{t_1, t_2, \\dots, t_n\\}$ where $t_i$ are equally spaced). The time series itself is then denoted as $\\{x_t\\}_{t \\in T}$, where $x_t$ is the observed value at time $t$.\n",
    "\n",
    "More formally, a time series can be considered a realization of a stochastic process $\\{X_t\\}_{t \\in T}$, where for each $t \\in T$, $X_t$ is a random variable. The observed sequence $\\{x_t\\}_{t \\in T}$ is one particular outcome of this underlying probabilistic mechanism evolving over time. The analysis of a time series often involves making statistical inferences about the properties of this stochastic process based on the observed data."
   ]
  },
  {
   "cell_type": "markdown",
   "id": "0c2463b3-36e9-49d5-a053-0e4331cdff16",
   "metadata": {},
   "source": [
    "### Single and multiple time series"
   ]
  },
  {
   "cell_type": "code",
   "execution_count": null,
   "id": "344bd060-00b4-4d30-920e-8f61ff86f765",
   "metadata": {},
   "outputs": [],
   "source": [
    "from utils import ExampleDataLoader, plot_series_slice, plot_series"
   ]
  },
  {
   "cell_type": "markdown",
   "id": "63aaf2f5-b197-426e-9bc6-0be86acbaafb",
   "metadata": {},
   "source": [
    "#### Univariate time series"
   ]
  },
  {
   "cell_type": "markdown",
   "id": "9499ea1a-2651-43ad-a7e4-a7498ee37cbe",
   "metadata": {},
   "source": [
    "A univariate time series focuses on a single variable measured over time. The goal is to analyze the patterns and predict future values of that one specific series based solely on its historical behavior."
   ]
  },
  {
   "cell_type": "markdown",
   "id": "719cf979-9d9a-472b-991c-c3809bfb7663",
   "metadata": {},
   "source": [
    "##### Chemical process experiment temperature "
   ]
  },
  {
   "cell_type": "code",
   "execution_count": null,
   "id": "150da319-e8a5-48c8-8edf-259678740f58",
   "metadata": {},
   "outputs": [],
   "source": [
    "experiment = 2\n",
    "\n",
    "temperature = ExampleDataLoader(\"process\").load(name=\"temperature\", idx=experiment)\n",
    "_ = plot_series(temperature)"
   ]
  },
  {
   "cell_type": "markdown",
   "id": "b3b0e860-9064-455b-b46c-612557714b79",
   "metadata": {},
   "source": [
    "##### Chemical process experiment pressure"
   ]
  },
  {
   "cell_type": "code",
   "execution_count": null,
   "id": "eb04d72f-5f24-4b03-aa07-306afe6955ca",
   "metadata": {},
   "outputs": [],
   "source": [
    "pressure = ExampleDataLoader(\"process\").load(name=\"pressure\", idx=experiment)\n",
    "_ = plot_series(pressure)"
   ]
  },
  {
   "cell_type": "markdown",
   "id": "859e0449-6174-4ccd-9233-34f9e5698479",
   "metadata": {},
   "source": [
    "##### Day-ahead spanish electricity demand"
   ]
  },
  {
   "cell_type": "code",
   "execution_count": null,
   "id": "0a18822a-a79a-4b8c-85c1-a799139c438d",
   "metadata": {},
   "outputs": [],
   "source": [
    "energy = ExampleDataLoader(\"energy\").load().set_index(\"datetime\")\n",
    "\n",
    "energy_yr = plot_series_slice(\n",
    "    energy, \n",
    "    start=\"2024-01-01 00:00:00\", \n",
    "    stop=\"2024-12-31 00:00:00\",\n",
    "    freq=\"h\",    \n",
    "    title=\"day-ahead energy demand (Year)\",\n",
    "    return_data=True,\n",
    ")\n",
    "\n",
    "energy_month = plot_series_slice(\n",
    "    energy, \n",
    "    start=\"2024-02-01 00:00:00\", \n",
    "    stop=\"2024-02-28 00:00:00\",\n",
    "    freq=\"h\",\n",
    "    title=\"day-ahead energy demand (Month)\",\n",
    "    return_data=True,\n",
    ")\n",
    "\n",
    "energy_week = plot_series_slice(\n",
    "    energy, \n",
    "    start=\"2024-02-01 00:00:00\", \n",
    "    stop=\"2024-02-7 00:00:00\",\n",
    "    freq=\"h\",\n",
    "    title=\"day-ahead energy demand (Week)\",\n",
    "    return_data=True,\n",
    ")"
   ]
  },
  {
   "cell_type": "markdown",
   "id": "090a83c4-dfb4-4f65-8fe7-13f0717ab11f",
   "metadata": {},
   "source": [
    "###### Some unique characteristics of Time Series"
   ]
  },
  {
   "cell_type": "markdown",
   "id": "ae86d299-c39a-4280-84e7-1168a2a60943",
   "metadata": {},
   "source": [
    "**1. Temporal Dependence (Autocorrelation):**\n",
    "   - Observing the data, especially the weekly and monthly views, suggests a clear dependency between consecutive data points. For instance, a high energy demand at a particular hour is likely to be followed by a demand that is not drastically different in the next hour. The repeating patterns within the week and month further indicate autocorrelation, where demand at similar times on different days or weeks is correlated. Machine learning models will need to capture this persistence and cyclical dependency to accurately predict future demand."
   ]
  },
  {
   "cell_type": "markdown",
   "id": "ec2a59bb-147e-469b-b282-e8832a97faaa",
   "metadata": {},
   "source": [
    "**2. Order Matters:**\n",
    "   - The chronological order of the energy demand data is fundamental. If we were to shuffle the data points, the inherent patterns related to time (daily peaks and troughs, weekly cycles, seasonal variations across the year) would be lost. Training an ML model on shuffled data would yield meaningless predictions as it would not learn the temporal relationships. When preparing this data for ML, we must maintain its sequential order and split it into training and testing sets based on time."
   ]
  },
  {
   "cell_type": "markdown",
   "id": "1ededea3-e8e3-49da-873a-145a1f3dce93",
   "metadata": {},
   "source": [
    "**3. Non-Stationarity:**\n",
    "   - The yearly plot shows fluctuations in the overall level of energy demand across the year. There appear to be periods of higher demand (e.g., around March 2024 and potentially towards the end of the year) and lower demand. This suggests the presence of non-stationarity in the mean. While a clear long-term trend might not be immediately obvious from this single year of data, longer timeframes could reveal one. Additionally, the variance of the demand might also change over time, indicating non-stationarity in the variance. Preprocessing techniques might be needed to address these non-stationarities before applying certain ML models."
   ]
  },
  {
   "cell_type": "markdown",
   "id": "19c23d40-18a6-4d52-a8ce-c4487c8970d3",
   "metadata": {},
   "source": [
    "**4. Seasonality and Cyclic Patterns:**\n",
    "   - The monthly plot clearly exhibits a weekly seasonality, with peaks and troughs repeating roughly every 7 days. This is likely due to the difference in energy consumption patterns between weekdays (typically higher demand due to industrial and commercial activity) and weekends (lower demand). The weekly plot further emphasizes this strong weekly cycle, showing a consistent pattern within each week. The yearly plot hints at potential longer-term seasonal patterns across the year (e.g., higher demand in certain months due to heating or cooling needs), although one year of data provides limited insight into inter-annual seasonality."
   ]
  },
  {
   "cell_type": "markdown",
   "id": "d81c079f-1420-4fbd-8cd1-05bfaef8b867",
   "metadata": {},
   "source": [
    "**5. Trend:**\n",
    "   - From the single year of data presented, it's difficult to definitively identify a long-term trend (increasing or decreasing demand over multiple years). However, within the observed year, there might be shorter-term trends or level shifts. A longer time series would be necessary to ascertain the presence and nature of a significant underlying trend."
   ]
  },
  {
   "cell_type": "markdown",
   "id": "33b93138-7123-4d96-903d-051b527f7399",
   "metadata": {},
   "source": [
    "**6. Irregular Intervals and Missing Data:**\n",
    "   - The graphs appear to show data points at regular intervals (though the exact granularity isn't specified). If the underlying data collection had any missing values or irregular intervals, this would need to be addressed before applying most ML models. Imputation techniques suitable for time series data would be necessary to handle missing values while preserving the temporal structure."
   ]
  },
  {
   "cell_type": "markdown",
   "id": "858883d2-2cde-4b01-8461-31cd7292cf26",
   "metadata": {},
   "source": [
    "**7. Feature Engineering from Time:**\n",
    "   - We could engineer several time-based features:\n",
    "     - **Lagged values:** Past energy demand at previous time steps (e.g., demand at the previous hour, previous day, same hour last week).\n",
    "     - **Calendar features:** Day of the week, day of the month, month of the year, hour of the day, whether it's a holiday, etc. These features can help the model learn the recurring patterns associated with specific times.\n",
    "     - **Rolling statistics:** Moving averages or rolling standard deviations of past demand to capture short-term trends or volatility."
   ]
  },
  {
   "cell_type": "markdown",
   "id": "ad816988-6233-4d5b-91ea-445c5ad89561",
   "metadata": {},
   "source": [
    "**8. Evaluation Metrics:**\n",
    "   - When evaluating ML models for forecasting this energy demand, standard regression metrics like Mean Absolute Error (MAE) or Root Mean Squared Error (RMSE) would be appropriate to measure the magnitude of the prediction errors. Additionally, metrics like Mean Absolute Percentage Error (MAPE) could provide a relative measure of the forecast accuracy. Given the temporal nature, it's crucial to evaluate the model's performance on a held-out test set that comes *after* the training data."
   ]
  },
  {
   "cell_type": "markdown",
   "id": "4c778d2b-6ad3-49e0-ba39-17950f83377b",
   "metadata": {},
   "source": [
    "**9. Forecasting Horizon:**\n",
    "   - The choice of ML model and the feature engineering might be influenced by the specific forecast horizon (in this case 24 hours). Some models might be better suited for shorter-term forecasts, while others can handle longer horizons more effectively."
   ]
  },
  {
   "cell_type": "markdown",
   "id": "3c7aa42c-e88a-4834-b446-2a7a07026215",
   "metadata": {},
   "source": [
    "**10. Domain Knowledge:**\n",
    "   - Understanding the factors that influence energy demand (e.g., weather conditions, economic activity, social events, electricity pricing) can be highly beneficial. Incorporating weather forecasts or calendar information about holidays could significantly improve the accuracy of ML models predicting day-ahead energy demand."
   ]
  },
  {
   "cell_type": "markdown",
   "id": "ffc4e3eb-e2f1-47f8-b38b-749f19c18194",
   "metadata": {},
   "source": [
    "#### Multiple time series"
   ]
  },
  {
   "cell_type": "markdown",
   "id": "12205bce-180b-497c-bc6e-6b4762a4b5ee",
   "metadata": {},
   "source": [
    "##### Multivariate time series\n",
    "In contrast, a multivariate time series involves two or more variables that are measured over the same time period. The analysis here considers not only the temporal dependencies within each individual series but also the interdependencies and correlations between these multiple variables to understand their joint evolution and make predictions."
   ]
  },
  {
   "cell_type": "code",
   "execution_count": null,
   "id": "14d5dbb5-5d4f-4045-b468-2085f7d8e77a",
   "metadata": {},
   "outputs": [],
   "source": [
    "from matplotlib import pyplot as plt\n",
    "\n",
    "fig, (ax0, ax1) = plt.subplots(nrows=2, figsize=(16, 8), sharex=True)\n",
    "pressure.plot(ax=ax0)\n",
    "temperature.plot(ax=ax1)\n",
    "ax0.set(ylabel=\"Pressure\")\n",
    "ax1.set(ylabel=\"Temperature\", xlabel=\"Time\");"
   ]
  },
  {
   "cell_type": "markdown",
   "id": "51111da2-24b0-40ba-839d-a60a7113616b",
   "metadata": {},
   "source": [
    "##### Panel data\n",
    "Panel data, also known as longitudinal data, involves observations of multiple entities (like individuals, companies, or countries) over several time periods. This type of data has both a cross-sectional dimension (the different entities) and a time series dimension (the measurements over time for each entity). Analyzing panel data allows us to study both the differences between these entities and the changes within them over time, providing a richer understanding compared to analyzing separate time series or cross-sectional data alone."
   ]
  },
  {
   "cell_type": "code",
   "execution_count": null,
   "id": "fc54a11a-3ade-4a96-b4ff-85aafa756e67",
   "metadata": {},
   "outputs": [],
   "source": [
    "experiments = ExampleDataLoader(\"process\").load()\n",
    "\n",
    "fig, ax = plt.subplots(1, figsize=(16, 4))\n",
    "experiments[\"pressure\"].sample(10).T.plot(ax=ax)\n",
    "ax.set(ylabel=\"Pressure\", xlabel=\"Time\");"
   ]
  },
  {
   "cell_type": "markdown",
   "id": "b4023840-5233-42bf-a832-8213572a1033",
   "metadata": {},
   "source": [
    "##  Why is time series different?"
   ]
  },
  {
   "cell_type": "markdown",
   "id": "b021243d-ff96-4414-8ecb-2afab3693147",
   "metadata": {},
   "source": [
    "#### Temporal dependence (Autocorrelation)\n",
    "Past values influence future values, requiring models like RNNs or ARIMA to capture these dependencies."
   ]
  },
  {
   "cell_type": "markdown",
   "id": "9b78cefa-3423-4574-8c2f-244fb38ffcb5",
   "metadata": {},
   "source": [
    "#### Order matters\n",
    "Sequence is critical; shuffling is invalid. Data splitting must be chronological to simulate forecasting."
   ]
  },
  {
   "cell_type": "markdown",
   "id": "668ede75-5520-429b-8a39-f36e9a54240e",
   "metadata": {},
   "source": [
    "#### Non-stationarity\n",
    "Statistical properties change over time (trends, seasonality); preprocessing (differencing, transformations) may be needed."
   ]
  },
  {
   "cell_type": "markdown",
   "id": "50ff1028-fe73-4534-a5c5-08720b8792d0",
   "metadata": {},
   "source": [
    "#### Seasonality and cyclic patterns\n",
    "Repeating short-term (seasonality) and longer-term (cycles) fluctuations that ML models should learn, often via feature engineering or specialized architectures."
   ]
  },
  {
   "cell_type": "markdown",
   "id": "9b09d2f0-665e-42c1-90de-83164f28b8d2",
   "metadata": {},
   "source": [
    "#### Trend\n",
    "Long-term direction needing identification and modeling, either explicitly or implicitly by ML models."
   ]
  },
  {
   "cell_type": "markdown",
   "id": "d05aa2f1-1337-430c-bb5a-09c378530a85",
   "metadata": {},
   "source": [
    "#### Irregular intervals and missing data\n",
    "Real-world data might have gaps or uneven spacing, requiring imputation techniques respecting temporal order or models that handle irregularity."
   ]
  },
  {
   "cell_type": "markdown",
   "id": "97d6b881-e4fa-42b6-881c-04bb1fdb4f95",
   "metadata": {},
   "source": [
    "#### Feature engineering from time\n",
    "Time indices can generate valuable features (lags, rolling stats, calendar features) to improve model performance."
   ]
  },
  {
   "cell_type": "markdown",
   "id": "d99e3d47-1beb-400e-a41b-c4dbfe4d7f54",
   "metadata": {},
   "source": [
    "#### Evaluation metrics\n",
    "Standard ML metrics might be insufficient; time series-aware metrics (MAE, RMSE, MAPE, Theil's U) are preferred."
   ]
  },
  {
   "cell_type": "markdown",
   "id": "39090876-e929-4952-b3bb-8b1caa13f218",
   "metadata": {},
   "source": [
    "#### Forecasting horizon\n",
    "Prediction timeframe (short, medium, long-term) impacts model choice and performance."
   ]
  },
  {
   "cell_type": "markdown",
   "id": "93a19b94-796f-48e9-b4fa-135efbcf8604",
   "metadata": {},
   "source": [
    "#### Domain knowledge\n",
    "External understanding of the data-generating process is crucial for feature engineering, model selection, and interpretation."
   ]
  },
  {
   "cell_type": "markdown",
   "id": "8781f41b-2c84-4599-8ac2-09ab569d7af0",
   "metadata": {},
   "source": [
    "## Machine Learning tasks on time series"
   ]
  },
  {
   "cell_type": "markdown",
   "id": "6393348a-3742-4073-b7c0-6db4efe87869",
   "metadata": {},
   "source": [
    "- Time series data gives rise to a variety of distinct learning tasks.\n",
    "- While these tasks can be related, it is crucial to understand their differences to apply appropriate machine learning techniques.\n",
    "\n",
    "_For a deep overview of the primary time series learning tasks have a look at this [paper](http://learningsys.org/neurips19/assets/papers/sktime_ml_systems_neurips2019.pdf)_."
   ]
  },
  {
   "cell_type": "markdown",
   "id": "5da5f846-4187-4f44-91bc-c94af0c9c01f",
   "metadata": {},
   "source": [
    "### Time series Regression/Classification"
   ]
  },
  {
   "cell_type": "markdown",
   "id": "fb68379b-c5bb-4419-8488-1fead245243f",
   "metadata": {},
   "source": [
    "We observe $N$ independent and identically distributed (i.i.d.) panel data training instances of feature-label pairs $(x_i, y_i)$, where $i = 1, ..., N$. Each instance's feature is a time series $x_i = (x_i(t_1), ..., x_i(t_T))$.\n",
    "\n",
    "The task is to learn a predictor $\\hat{f}$ that can accurately predict a new target value $\\hat{y}$ for a new input time series $x_*$:\n",
    "\n",
    "   $$\\hat{y} = \\hat{f}(x_*)$$\n",
    "\n",
    "   -   For regression, the target variable $y_i$ is a continuous value, $y_i \\in \\mathbb{R}$. \n",
    "   -   For classification, the target variable $y_i$ takes a value from a finite set of class values.\n",
    "   -   Time-invariant features may also be present.\n",
    "   -   The main difference from standard tabular supervised learning is that some features are time series rather than simple primitives (e.g., numbers or strings).\n",
    "   -   Important sub-cases include:\n",
    "        -   Equally spaced observation times.\n",
    "        -   Equal length time series"
   ]
  },
  {
   "cell_type": "markdown",
   "id": "3b18829e-87f1-4e35-b2e6-7678fd418c67",
   "metadata": {},
   "source": [
    "**Example (Regression):**\n",
    "\n",
    "Predicting the electricity consumption of a household based on past hourly consumption patterns. Here, the time series $x_i$ represents the hourly consumption, and $y_i$ is the total daily consumption (a continuous value).\n",
    "\n",
    "**Example (Classification):**\n",
    "\n",
    "Identifying whether a patient has a specific heart condition based on their ECG time series data. Here, the time series $x_i$ is the ECG signal, and $y_i$ is a class label (e.g., \"Condition Present\" or \"Condition Absent\")."
   ]
  },
  {
   "cell_type": "markdown",
   "id": "a39202d6-9ef9-4d8e-9309-4b0ae7d318a1",
   "metadata": {},
   "source": [
    "### Classical forecasting"
   ]
  },
  {
   "cell_type": "markdown",
   "id": "9779a704-c8e9-40c1-b736-87f76bd70d2a",
   "metadata": {},
   "source": [
    "Given past observations $y = (y(t_1), ..., y(t_T))$ of a single time series, the task is to learn a forecaster $\\hat{f}$ that can make accurate temporal forward predictions $\\hat{y}$ of observations at given time points $h_1, ..., h_H$ of the forecasting horizon, where $\\hat{y} = (\\hat{y}(h_1), ..., \\hat{y}(h_H))$ denotes the forecasted series.\n",
    "\n",
    "No i.i.d. assumption is made in classical forecasting. Variants of forecasting can be distinguished by:\n",
    "\n",
    "   -   Whether additional related time series are observed (multivariate data).\n",
    "   -   For multivariate data, whether one forecasts a single series or multiple series jointly (exogeneity vs. vector forecasting).\n",
    "   -   Whether the forecasting horizon lies:\n",
    "        -   In the observed time horizon (in-sample predictions).\n",
    "        -   In the future of the observed time series (forecasting).\n",
    "        -   For multivariate data, only in the future of the target variable but not the exogenous variables (nowcasting).\n",
    "   -   Whether there is a single time point to forecast ($H = 1$) or not (single-step vs. multi-step).\n",
    "   -   Whether the forecasting horizon is known during training or only during forecasting (functional vs. discrete forecast)."
   ]
  },
  {
   "cell_type": "markdown",
   "id": "b1134f4d-b9c2-4e4b-b23e-158c7656193f",
   "metadata": {},
   "source": [
    "**Example (Forecasting):**\n",
    "\n",
    "Predicting the price of oil based on its past prices (univariate) versus predicting the price of oil based on its past prices, global economic indicators, and political events (multivariate).\n",
    "\n",
    "**Example (Multi-step Forecasting):**\n",
    "\n",
    "Predicting the next day's temperature (single-step) versus predicting the temperature for the next week (multi-step)."
   ]
  },
  {
   "cell_type": "markdown",
   "id": "b74ee893-ee13-4eee-a268-a28b9b9cdc3a",
   "metadata": {},
   "source": [
    "### Supervised/Panel forecasting"
   ]
  },
  {
   "cell_type": "markdown",
   "id": "3c9d6875-e934-4819-840e-1984460f53e9",
   "metadata": {},
   "source": [
    "We observe $N$ i.i.d. panel data training instances $(y_i)$, where $i = 1, ..., N$. Each instance is a sequence of past observations $y_i = (y_i(t_1), ..., y_i(t_T))$. The task is to use the training data to learn a supervised forecaster $\\hat{f}$ that can make accurate temporal forward predictions $\\hat{y}_i$ for a new instance $y_*$ at given time points $h_1, ..., h_H$ of the forecasting horizon, where $\\hat{y}_i = (\\hat{y}_i(h_1), ..., \\hat{y}_i(h_H))$ is the forecasted series:\n",
    "\n",
    "   $$\\hat{y}_i = \\hat{f}(y_*, h_j)$$\n",
    "\n",
    "   The training instances do not necessarily lie in the past of $y$ and may involve observations at past and future time points. Variants include panel data with additional time-constant features and the same variants as found in classical forecasting.\n"
   ]
  },
  {
   "cell_type": "markdown",
   "id": "0685851f-d9b2-4c6f-9ae2-2e874e43ea46",
   "metadata": {},
   "source": [
    "**Example:**\n",
    "\n",
    "Predicting the energy consumption of individual buildings in a city, where each building has its own time series of past consumption. Here, we have panel data (multiple buildings), and we want to forecast each building's future consumption. We might also have time-constant features for each building, such as its size, insulation level, and occupancy.\n"
   ]
  },
  {
   "cell_type": "markdown",
   "id": "e602fb77-42ec-4285-b023-c056f7a330c9",
   "metadata": {},
   "source": [
    "### Time series annotation"
   ]
  },
  {
   "cell_type": "markdown",
   "id": "0265f99e-14cb-4a64-ad0a-460668769221",
   "metadata": {},
   "source": [
    "For given observations $x = (x(t_1), ..., x(t_T))$ of a single time series, the task is to learn an annotator that accurately predicts a series of annotations $\\hat{y} = (\\hat{y}(a_1), ..., \\hat{y}(a_A))$ for the observed series $x$, where $a_1, ..., a_A$ denote the time indices of the annotations.\n",
    "\n",
    "   The task varies by the value domain and interpretation of the annotations $\\hat{y}$ in relation to $x$:\n",
    "\n",
    "   -   In change-point detection, $\\hat{y}$ contains change points and the type of change point.\n",
    "   -   In anomaly detection, the $a_j$ are a subset of the $t_j$ and indicate anomalies, possibly with the anomaly type.\n",
    "   -   In segmentation, the $a_j$ are interpreted to subdivide the series $x$ into segments, annotated by the type of segment.\n",
    "\n",
    "   Time series annotation can also be found in supervised form, with partial annotations within a single time series, or multiple annotated i.i.d. panel data training instances, as well as in entirely unsupervised form."
   ]
  },
  {
   "cell_type": "markdown",
   "id": "53d5112f-275e-47ac-b7ab-95b0af14ad6a",
   "metadata": {},
   "source": [
    "**Example (change-point detection):**\n",
    "\n",
    "Identifying when significant changes occur in a machine's vibration patterns, indicating potential malfunctions.\n",
    "\n",
    "**Example (anomaly detection):**\n",
    "\n",
    "Detecting fraudulent transactions in a time series of credit card activity.\n",
    "\n",
    "**Example (segmentation):**\n",
    "\n",
    "Dividing a time series of human activity data (e.g., from a wearable sensor) into segments corresponding to different activities like walking, running, and sitting.\n"
   ]
  },
  {
   "cell_type": "markdown",
   "id": "e7960133-dfcf-481a-a2ba-6c30c95ed006",
   "metadata": {},
   "source": [
    "### Reduction"
   ]
  },
  {
   "cell_type": "markdown",
   "id": "bbc3732b-d414-4cc9-a110-34786428b4cd",
   "metadata": {},
   "source": [
    "![](../img/reduction-map.png)"
   ]
  },
  {
   "cell_type": "markdown",
   "id": "b31395fc-b60a-4847-a91f-426d29324d62",
   "metadata": {},
   "source": [
    "Reduction is a technique that decomposes a complex task into simpler, related tasks. This allows algorithms developed for simpler tasks to be adapted and used to solve more complex ones.\n",
    "\n",
    "In time series analysis, reduction plays a crucial role in enabling the use of standard machine learning algorithms (like those in scikit-learn) for time series problems."
   ]
  },
  {
   "cell_type": "markdown",
   "id": "4f384ddd-12ea-4a30-8eb9-0ae767f9b313",
   "metadata": {},
   "source": [
    "**Example: Forecasting as Regression**\n",
    "\n",
    "   -   A common reduction is to transform a forecasting problem into a regression problem.\n",
    "\n",
    "   -   This is often done using a \"sliding window\" approach:\n",
    "\n",
    "        -   The time series is divided into overlapping windows.\n",
    "\n",
    "        -   Each window's past values become the features for a regression model.\n",
    "\n",
    "        -   The value(s) to be predicted within or immediately following the window become the target variable(s).\n",
    "\n",
    "   -   By doing this, we can use any regression algorithm to predict future time series values.\n",
    "\n",
    "   -   Reduction helps to unify different time series tasks and provides a framework for developing more versatile and efficient solutions."
   ]
  },
  {
   "cell_type": "markdown",
   "id": "21006234-36dc-4496-993b-440f98f0fe8a",
   "metadata": {},
   "source": [
    "![](../img/forecasting-to-regression-reduction.png)"
   ]
  },
  {
   "cell_type": "code",
   "execution_count": null,
   "id": "3c6b16c9-3b1e-4aee-a6b6-c885192dc897",
   "metadata": {},
   "outputs": [],
   "source": []
  }
 ],
 "metadata": {
  "kernelspec": {
   "display_name": "Python 3 (ipykernel)",
   "language": "python",
   "name": "python3"
  },
  "language_info": {
   "codemirror_mode": {
    "name": "ipython",
    "version": 3
   },
   "file_extension": ".py",
   "mimetype": "text/x-python",
   "name": "python",
   "nbconvert_exporter": "python",
   "pygments_lexer": "ipython3",
   "version": "3.13.2"
  }
 },
 "nbformat": 4,
 "nbformat_minor": 5
}
